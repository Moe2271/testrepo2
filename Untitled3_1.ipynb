{
  "nbformat": 4,
  "nbformat_minor": 0,
  "metadata": {
    "colab": {
      "provenance": []
    },
    "kernelspec": {
      "name": "python3",
      "display_name": "Python 3"
    },
    "language_info": {
      "name": "python"
    }
  },
  "cells": [
    {
      "cell_type": "code",
      "execution_count": 31,
      "metadata": {
        "id": "E0tRzc12nWIC"
      },
      "outputs": [],
      "source": [
        "#importing the main libraries we'll be using in this notebook for manuplating, reading the images \n",
        "\n",
        "import matplotlib.pyplot as plt\n",
        "import numpy as np\n",
        "\n",
        "# importing sklearn functions such as classification report, KFold for best validation , splitting method, and the confution matrix \n",
        "\n",
        "from sklearn.metrics import classification_report, confusion_matrix\n",
        "from sklearn.utils import shuffle\n",
        "from sklearn.model_selection import train_test_split, KFold\n",
        "import seaborn as sns\n",
        "\n",
        "#importing tensorflow  needed stuff such as layers, optimizers, functions\n",
        "\n",
        "import tensorflow as tf\n",
        "from tensorflow.keras.preprocessing.image import load_img,ImageDataGenerator\n",
        "from tensorflow.keras import layers\n",
        "from tensorflow.keras.optimizers import Adam, Adamax, SGD, RMSprop\n",
        "from tensorflow.keras.models import Model, load_model, Sequential\n",
        "from tensorflow.keras.layers import BatchNormalization,  MaxPooling2D, Conv2D, ReLU, UpSampling2D\n",
        "from tensorflow.keras.layers import Activation, Flatten, Dropout, Dense\n",
        "from tensorflow.keras.preprocessing.image import ImageDataGenerator\n",
        "\n",
        "\n",
        "\n",
        "#important callbacks\n",
        "from keras.callbacks import ModelCheckpoint\n",
        "from tensorflow.keras.callbacks import EarlyStopping\n",
        "import itertools"
      ]
    },
    {
      "cell_type": "code",
      "source": [
        "(x_train, y_train), (x_test, y_test) = tf.keras.datasets.cifar10.load_data()\n",
        "x_train, x_valid, y_train, y_valid = train_test_split(x_train, y_train, shuffle = True, random_state = 42)"
      ],
      "metadata": {
        "id": "HOInicy3nmSf"
      },
      "execution_count": 22,
      "outputs": []
    },
    {
      "cell_type": "code",
      "source": [
        "from keras.utils import to_categorical\n",
        "y_train = to_categorical(y_train)\n",
        "y_valid = to_categorical(y_valid)\n",
        "y_test = to_categorical(y_test)\n",
        "print(y_train.shape)\n",
        "print(y_test.shape)"
      ],
      "metadata": {
        "colab": {
          "base_uri": "https://localhost:8080/"
        },
        "id": "KBpc11PRsaws",
        "outputId": "3cc8af25-a6f5-4246-b29f-f930673d7d47"
      },
      "execution_count": 23,
      "outputs": [
        {
          "output_type": "stream",
          "name": "stdout",
          "text": [
            "(37500, 10)\n",
            "(10000, 10)\n"
          ]
        }
      ]
    },
    {
      "cell_type": "code",
      "source": [
        "x_train = x_train/255\n",
        "x_test = x_test/255\n",
        "x_valid = x_valid/255"
      ],
      "metadata": {
        "id": "0717rkmitQJ6"
      },
      "execution_count": 27,
      "outputs": []
    },
    {
      "cell_type": "code",
      "source": [
        "print(x_train[1])"
      ],
      "metadata": {
        "id": "s8Q8ZOeIuto8"
      },
      "execution_count": null,
      "outputs": []
    },
    {
      "cell_type": "code",
      "source": [
        "# creating the model \n",
        "img_size = 32\n",
        "\n",
        "model = Sequential([\n",
        "    Conv2D(64, (2,2) ,   activation=\"relu\", padding='valid' ,kernel_initializer = 'he_uniform'  , input_shape = (img_size,img_size,3)),\n",
        "    BatchNormalization(),\n",
        "    MaxPooling2D((2,2)),\n",
        "    Dropout(0.3),\n",
        "\n",
        "\n",
        "    Conv2D(64, (2,2) ,    activation=\"relu\", padding='valid' , kernel_initializer = 'he_uniform'),\n",
        "    BatchNormalization(),\n",
        "    MaxPooling2D((2,2)),    \n",
        "    Dropout(0.3), \n",
        "\n",
        "    Conv2D(128, (2,2) ,   activation=\"relu\", padding='valid' ,kernel_initializer = 'he_uniform' ),\n",
        "    BatchNormalization(),\n",
        "    MaxPooling2D((2,2)),\n",
        "    Dropout(0.3), \n",
        "    \n",
        "    Conv2D(512, (2,2) ,   activation=\"relu\", padding='valid' ,kernel_initializer = 'he_uniform' ),\n",
        "    BatchNormalization(),\n",
        "    MaxPooling2D((2,2)),\n",
        "    Dropout(0.3), \n",
        "    \n",
        "    Flatten(),\n",
        "    \n",
        "    Dense(128, activation='relu'),\n",
        "    BatchNormalization(),\n",
        "    Dropout(0.3),\n",
        "    Dense(64, activation='relu'),\n",
        "    BatchNormalization(),\n",
        "    Dropout(0.3), \n",
        "    Dense(32, activation='relu'),\n",
        "    BatchNormalization(),\n",
        "    Dropout(0.3), \n",
        "    Dense(10 , activation = 'softmax')\n",
        "])\n",
        "\n",
        "model.summary()\n"
      ],
      "metadata": {
        "id": "DfHsNYsZoFka"
      },
      "execution_count": null,
      "outputs": []
    },
    {
      "cell_type": "code",
      "source": [
        "from tensorflow.keras.applications import VGG16\n",
        "from tensorflow.keras.layers import Dense, Flatten, Dropout\n",
        "\n",
        "vgg16 = VGG16(weights='imagenet',\n",
        "                    include_top=False, \n",
        "                    classes=10,\n",
        "                    input_shape=(32,32,3)\n",
        "                   )\n",
        "model = Sequential([])\n",
        "\n",
        "for layer in vgg16.layers: \n",
        "    model.add(layer)\n"
      ],
      "metadata": {
        "id": "Z7UqU9tB676s"
      },
      "execution_count": 63,
      "outputs": []
    },
    {
      "cell_type": "code",
      "source": [
        "model.add(Flatten())\n",
        "model.add(Dense(512, activation='relu'))\n",
        "model.add(Dropout(0.25))\n",
        "model.add(Dense(256, activation='relu'))\n",
        "model.add(Dropout(0.25))\n",
        "model.add(Dense(10, activation='softmax'))\n",
        "model.summary()\n"
      ],
      "metadata": {
        "colab": {
          "base_uri": "https://localhost:8080/"
        },
        "id": "BPwyh-UL9JKA",
        "outputId": "411641a2-dbcd-4d55-98e1-81e672937f20"
      },
      "execution_count": 64,
      "outputs": [
        {
          "output_type": "stream",
          "name": "stdout",
          "text": [
            "Model: \"sequential_14\"\n",
            "_________________________________________________________________\n",
            " Layer (type)                Output Shape              Param #   \n",
            "=================================================================\n",
            " block1_conv1 (Conv2D)       (None, 32, 32, 64)        1792      \n",
            "                                                                 \n",
            " block1_conv2 (Conv2D)       (None, 32, 32, 64)        36928     \n",
            "                                                                 \n",
            " block1_pool (MaxPooling2D)  (None, 16, 16, 64)        0         \n",
            "                                                                 \n",
            " block2_conv1 (Conv2D)       (None, 16, 16, 128)       73856     \n",
            "                                                                 \n",
            " block2_conv2 (Conv2D)       (None, 16, 16, 128)       147584    \n",
            "                                                                 \n",
            " block2_pool (MaxPooling2D)  (None, 8, 8, 128)         0         \n",
            "                                                                 \n",
            " block3_conv1 (Conv2D)       (None, 8, 8, 256)         295168    \n",
            "                                                                 \n",
            " block3_conv2 (Conv2D)       (None, 8, 8, 256)         590080    \n",
            "                                                                 \n",
            " block3_conv3 (Conv2D)       (None, 8, 8, 256)         590080    \n",
            "                                                                 \n",
            " block3_pool (MaxPooling2D)  (None, 4, 4, 256)         0         \n",
            "                                                                 \n",
            " block4_conv1 (Conv2D)       (None, 4, 4, 512)         1180160   \n",
            "                                                                 \n",
            " block4_conv2 (Conv2D)       (None, 4, 4, 512)         2359808   \n",
            "                                                                 \n",
            " block4_conv3 (Conv2D)       (None, 4, 4, 512)         2359808   \n",
            "                                                                 \n",
            " block4_pool (MaxPooling2D)  (None, 2, 2, 512)         0         \n",
            "                                                                 \n",
            " block5_conv1 (Conv2D)       (None, 2, 2, 512)         2359808   \n",
            "                                                                 \n",
            " block5_conv2 (Conv2D)       (None, 2, 2, 512)         2359808   \n",
            "                                                                 \n",
            " block5_conv3 (Conv2D)       (None, 2, 2, 512)         2359808   \n",
            "                                                                 \n",
            " block5_pool (MaxPooling2D)  (None, 1, 1, 512)         0         \n",
            "                                                                 \n",
            " flatten_10 (Flatten)        (None, 512)               0         \n",
            "                                                                 \n",
            " dense_40 (Dense)            (None, 512)               262656    \n",
            "                                                                 \n",
            " dropout_68 (Dropout)        (None, 512)               0         \n",
            "                                                                 \n",
            " dense_41 (Dense)            (None, 256)               131328    \n",
            "                                                                 \n",
            " dropout_69 (Dropout)        (None, 256)               0         \n",
            "                                                                 \n",
            " dense_42 (Dense)            (None, 10)                2570      \n",
            "                                                                 \n",
            "=================================================================\n",
            "Total params: 15,111,242\n",
            "Trainable params: 15,111,242\n",
            "Non-trainable params: 0\n",
            "_________________________________________________________________\n"
          ]
        }
      ]
    },
    {
      "cell_type": "code",
      "source": [
        "def optimize_cnn(model, X_train, y_train, X_val, y_val):\n",
        "      # Compile the model with an optimizer and a loss function\n",
        "      model.compile(optimizer=Adam(), loss='categorical_crossentropy', metrics=['accuracy'])\n",
        "      mc = ModelCheckpoint('best_model.h5', monitor='val_accuracy', mode='max', verbose=1, save_best_only=True)\n",
        "\n",
        "      # Use early stopping to monitor the validation loss and prevent overfitting\n",
        "      # es = EarlyStopping(monitor='val_loss', mode='min', verbose=1, patience=50)\n",
        "\n",
        "      # Use a learning rate scheduler to reduce the learning rate as the training progresses\n",
        "      # lr_scheduler = tf.keras.callbacks.ReduceLROnPlateau(monitor='val_loss', factor=0.15, patience=50, min_lr = 0.0005)\n",
        "\n",
        "      # Fit the model to the training data using a batch size of 32 and validation data for evaluation\n",
        "      history= model.fit(X_train, y_train, batch_size = 64, epochs = 50, validation_data=(X_val, y_val), callbacks=[mc])\n",
        "     \n",
        "      return model, history\n",
        "\n",
        "model, history = optimize_cnn(model, x_train, y_train, x_valid, y_valid)"
      ],
      "metadata": {
        "colab": {
          "base_uri": "https://localhost:8080/"
        },
        "id": "naWHhZuzoMof",
        "outputId": "0d0e2634-8b3b-4a5d-f37b-53ab6f295701"
      },
      "execution_count": null,
      "outputs": [
        {
          "output_type": "stream",
          "name": "stdout",
          "text": [
            "Epoch 1/50\n",
            " 17/586 [..............................] - ETA: 1:02:10 - loss: 2.4226 - accuracy: 0.1085"
          ]
        }
      ]
    },
    {
      "cell_type": "code",
      "source": [
        "#Mini batch GD\n",
        "\n",
        "class Mini_batch:\n",
        "    def create_batch(self, x_train, y_train, batch_size):\n"
      ],
      "metadata": {
        "id": "kEn_ggYireJh"
      },
      "execution_count": null,
      "outputs": []
    }
  ]
}